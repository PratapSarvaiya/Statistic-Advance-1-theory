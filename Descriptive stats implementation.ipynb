{
 "cells": [
  {
   "cell_type": "code",
   "execution_count": 12,
   "id": "e302a79b-addc-4950-bd09-8ea931c4ddc1",
   "metadata": {},
   "outputs": [],
   "source": [
    "data = [1,2,3,4,5]"
   ]
  },
  {
   "cell_type": "code",
   "execution_count": 6,
   "id": "27961f3b-236b-4463-9d45-036315563114",
   "metadata": {},
   "outputs": [],
   "source": [
    "import pandas as pd\n",
    "import numpy as sns\n",
    "import seaborn as sns\n",
    "\n",
    "import warnings\n",
    "warnings.filterwarnings('ignore')"
   ]
  },
  {
   "cell_type": "code",
   "execution_count": 11,
   "id": "474cb21e-a929-433f-9040-c9b36cd3336b",
   "metadata": {},
   "outputs": [
    {
     "data": {
      "text/plain": [
       "np.float64(3.0)"
      ]
     },
     "execution_count": 11,
     "metadata": {},
     "output_type": "execute_result"
    }
   ],
   "source": [
    "import numpy as np\n",
    "data = [1,2,3,4,5]\n",
    "np.mean(data)"
   ]
  },
  {
   "cell_type": "code",
   "execution_count": 13,
   "id": "5a412fac-2aa3-424e-a6c2-8edb0a48f91f",
   "metadata": {},
   "outputs": [
    {
     "data": {
      "text/plain": [
       "np.float64(3.0)"
      ]
     },
     "execution_count": 13,
     "metadata": {},
     "output_type": "execute_result"
    }
   ],
   "source": [
    "np.mean(data)"
   ]
  },
  {
   "cell_type": "code",
   "execution_count": 15,
   "id": "f61cae04-73e4-43a2-b3d8-2bd75f0adc12",
   "metadata": {},
   "outputs": [],
   "source": [
    "df = sns.load_dataset('tips')"
   ]
  },
  {
   "cell_type": "code",
   "execution_count": 16,
   "id": "b61811ee-4cf7-4a6b-b857-4e32b2fff56f",
   "metadata": {},
   "outputs": [
    {
     "data": {
      "text/html": [
       "<div>\n",
       "<style scoped>\n",
       "    .dataframe tbody tr th:only-of-type {\n",
       "        vertical-align: middle;\n",
       "    }\n",
       "\n",
       "    .dataframe tbody tr th {\n",
       "        vertical-align: top;\n",
       "    }\n",
       "\n",
       "    .dataframe thead th {\n",
       "        text-align: right;\n",
       "    }\n",
       "</style>\n",
       "<table border=\"1\" class=\"dataframe\">\n",
       "  <thead>\n",
       "    <tr style=\"text-align: right;\">\n",
       "      <th></th>\n",
       "      <th>total_bill</th>\n",
       "      <th>tip</th>\n",
       "      <th>sex</th>\n",
       "      <th>smoker</th>\n",
       "      <th>day</th>\n",
       "      <th>time</th>\n",
       "      <th>size</th>\n",
       "    </tr>\n",
       "  </thead>\n",
       "  <tbody>\n",
       "    <tr>\n",
       "      <th>0</th>\n",
       "      <td>16.99</td>\n",
       "      <td>1.01</td>\n",
       "      <td>Female</td>\n",
       "      <td>No</td>\n",
       "      <td>Sun</td>\n",
       "      <td>Dinner</td>\n",
       "      <td>2</td>\n",
       "    </tr>\n",
       "    <tr>\n",
       "      <th>1</th>\n",
       "      <td>10.34</td>\n",
       "      <td>1.66</td>\n",
       "      <td>Male</td>\n",
       "      <td>No</td>\n",
       "      <td>Sun</td>\n",
       "      <td>Dinner</td>\n",
       "      <td>3</td>\n",
       "    </tr>\n",
       "    <tr>\n",
       "      <th>2</th>\n",
       "      <td>21.01</td>\n",
       "      <td>3.50</td>\n",
       "      <td>Male</td>\n",
       "      <td>No</td>\n",
       "      <td>Sun</td>\n",
       "      <td>Dinner</td>\n",
       "      <td>3</td>\n",
       "    </tr>\n",
       "    <tr>\n",
       "      <th>3</th>\n",
       "      <td>23.68</td>\n",
       "      <td>3.31</td>\n",
       "      <td>Male</td>\n",
       "      <td>No</td>\n",
       "      <td>Sun</td>\n",
       "      <td>Dinner</td>\n",
       "      <td>2</td>\n",
       "    </tr>\n",
       "    <tr>\n",
       "      <th>4</th>\n",
       "      <td>24.59</td>\n",
       "      <td>3.61</td>\n",
       "      <td>Female</td>\n",
       "      <td>No</td>\n",
       "      <td>Sun</td>\n",
       "      <td>Dinner</td>\n",
       "      <td>4</td>\n",
       "    </tr>\n",
       "    <tr>\n",
       "      <th>...</th>\n",
       "      <td>...</td>\n",
       "      <td>...</td>\n",
       "      <td>...</td>\n",
       "      <td>...</td>\n",
       "      <td>...</td>\n",
       "      <td>...</td>\n",
       "      <td>...</td>\n",
       "    </tr>\n",
       "    <tr>\n",
       "      <th>239</th>\n",
       "      <td>29.03</td>\n",
       "      <td>5.92</td>\n",
       "      <td>Male</td>\n",
       "      <td>No</td>\n",
       "      <td>Sat</td>\n",
       "      <td>Dinner</td>\n",
       "      <td>3</td>\n",
       "    </tr>\n",
       "    <tr>\n",
       "      <th>240</th>\n",
       "      <td>27.18</td>\n",
       "      <td>2.00</td>\n",
       "      <td>Female</td>\n",
       "      <td>Yes</td>\n",
       "      <td>Sat</td>\n",
       "      <td>Dinner</td>\n",
       "      <td>2</td>\n",
       "    </tr>\n",
       "    <tr>\n",
       "      <th>241</th>\n",
       "      <td>22.67</td>\n",
       "      <td>2.00</td>\n",
       "      <td>Male</td>\n",
       "      <td>Yes</td>\n",
       "      <td>Sat</td>\n",
       "      <td>Dinner</td>\n",
       "      <td>2</td>\n",
       "    </tr>\n",
       "    <tr>\n",
       "      <th>242</th>\n",
       "      <td>17.82</td>\n",
       "      <td>1.75</td>\n",
       "      <td>Male</td>\n",
       "      <td>No</td>\n",
       "      <td>Sat</td>\n",
       "      <td>Dinner</td>\n",
       "      <td>2</td>\n",
       "    </tr>\n",
       "    <tr>\n",
       "      <th>243</th>\n",
       "      <td>18.78</td>\n",
       "      <td>3.00</td>\n",
       "      <td>Female</td>\n",
       "      <td>No</td>\n",
       "      <td>Thur</td>\n",
       "      <td>Dinner</td>\n",
       "      <td>2</td>\n",
       "    </tr>\n",
       "  </tbody>\n",
       "</table>\n",
       "<p>244 rows × 7 columns</p>\n",
       "</div>"
      ],
      "text/plain": [
       "     total_bill   tip     sex smoker   day    time  size\n",
       "0         16.99  1.01  Female     No   Sun  Dinner     2\n",
       "1         10.34  1.66    Male     No   Sun  Dinner     3\n",
       "2         21.01  3.50    Male     No   Sun  Dinner     3\n",
       "3         23.68  3.31    Male     No   Sun  Dinner     2\n",
       "4         24.59  3.61  Female     No   Sun  Dinner     4\n",
       "..          ...   ...     ...    ...   ...     ...   ...\n",
       "239       29.03  5.92    Male     No   Sat  Dinner     3\n",
       "240       27.18  2.00  Female    Yes   Sat  Dinner     2\n",
       "241       22.67  2.00    Male    Yes   Sat  Dinner     2\n",
       "242       17.82  1.75    Male     No   Sat  Dinner     2\n",
       "243       18.78  3.00  Female     No  Thur  Dinner     2\n",
       "\n",
       "[244 rows x 7 columns]"
      ]
     },
     "execution_count": 16,
     "metadata": {},
     "output_type": "execute_result"
    }
   ],
   "source": [
    "df"
   ]
  },
  {
   "cell_type": "code",
   "execution_count": 17,
   "id": "98e883a7-c0d7-4205-a970-f37f536dd82f",
   "metadata": {},
   "outputs": [
    {
     "data": {
      "text/plain": [
       "np.float64(19.78594262295082)"
      ]
     },
     "execution_count": 17,
     "metadata": {},
     "output_type": "execute_result"
    }
   ],
   "source": [
    "np.mean(df['total_bill'])"
   ]
  },
  {
   "cell_type": "code",
   "execution_count": 18,
   "id": "7b487303-1a4c-470d-b47b-0eaa230370d2",
   "metadata": {},
   "outputs": [
    {
     "name": "stdout",
     "output_type": "stream",
     "text": [
      "<class 'pandas.core.frame.DataFrame'>\n",
      "RangeIndex: 244 entries, 0 to 243\n",
      "Data columns (total 7 columns):\n",
      " #   Column      Non-Null Count  Dtype   \n",
      "---  ------      --------------  -----   \n",
      " 0   total_bill  244 non-null    float64 \n",
      " 1   tip         244 non-null    float64 \n",
      " 2   sex         244 non-null    category\n",
      " 3   smoker      244 non-null    category\n",
      " 4   day         244 non-null    category\n",
      " 5   time        244 non-null    category\n",
      " 6   size        244 non-null    int64   \n",
      "dtypes: category(4), float64(2), int64(1)\n",
      "memory usage: 7.4 KB\n"
     ]
    }
   ],
   "source": [
    "df.info()"
   ]
  },
  {
   "cell_type": "code",
   "execution_count": 19,
   "id": "a6353d61-56f8-4b7a-b90a-5693c6fe5421",
   "metadata": {},
   "outputs": [
    {
     "data": {
      "text/plain": [
       "[1, 2, 3, 4, 5]"
      ]
     },
     "execution_count": 19,
     "metadata": {},
     "output_type": "execute_result"
    }
   ],
   "source": [
    "data"
   ]
  },
  {
   "cell_type": "code",
   "execution_count": 20,
   "id": "f8fc40bb-9482-4e6f-8296-76bbe173e566",
   "metadata": {},
   "outputs": [
    {
     "data": {
      "text/plain": [
       "np.float64(3.0)"
      ]
     },
     "execution_count": 20,
     "metadata": {},
     "output_type": "execute_result"
    }
   ],
   "source": [
    "np.median(data)"
   ]
  },
  {
   "cell_type": "code",
   "execution_count": 22,
   "id": "1536309d-8cc6-40c9-8727-0451fce776b9",
   "metadata": {},
   "outputs": [
    {
     "data": {
      "text/plain": [
       "np.float64(17.795)"
      ]
     },
     "execution_count": 22,
     "metadata": {},
     "output_type": "execute_result"
    }
   ],
   "source": [
    "np.median(df['total_bill'])"
   ]
  },
  {
   "cell_type": "code",
   "execution_count": 23,
   "id": "4e0d7c05-cbc6-42a8-9f71-b6bec93081b6",
   "metadata": {},
   "outputs": [],
   "source": [
    "# mean is affected/inflated by outliers"
   ]
  },
  {
   "cell_type": "code",
   "execution_count": 24,
   "id": "2520c25a-446c-4833-aabb-5de01ccc64a7",
   "metadata": {},
   "outputs": [
    {
     "data": {
      "text/plain": [
       "[1, 2, 3, 4, 5]"
      ]
     },
     "execution_count": 24,
     "metadata": {},
     "output_type": "execute_result"
    }
   ],
   "source": [
    "data"
   ]
  },
  {
   "cell_type": "code",
   "execution_count": 25,
   "id": "b7714ed1-08c9-459e-a1ca-bdc5acf954b9",
   "metadata": {},
   "outputs": [
    {
     "data": {
      "text/plain": [
       "np.float64(102.0)"
      ]
     },
     "execution_count": 25,
     "metadata": {},
     "output_type": "execute_result"
    }
   ],
   "source": [
    "data = [1, 2, 3, 4, 500]\n",
    "np.mean(data)"
   ]
  },
  {
   "cell_type": "code",
   "execution_count": 26,
   "id": "6d8aaa49-6e76-46f9-9ca4-80398ef5b3ab",
   "metadata": {},
   "outputs": [
    {
     "data": {
      "text/plain": [
       "np.float64(3.0)"
      ]
     },
     "execution_count": 26,
     "metadata": {},
     "output_type": "execute_result"
    }
   ],
   "source": [
    "np.median(data)"
   ]
  },
  {
   "cell_type": "code",
   "execution_count": 28,
   "id": "3b123520-fdd9-4aa8-a422-4a8b4013d930",
   "metadata": {},
   "outputs": [
    {
     "ename": "AttributeError",
     "evalue": "module 'numpy' has no attribute 'mode'",
     "output_type": "error",
     "traceback": [
      "\u001b[1;31m---------------------------------------------------------------------------\u001b[0m",
      "\u001b[1;31mAttributeError\u001b[0m                            Traceback (most recent call last)",
      "Cell \u001b[1;32mIn[28], line 2\u001b[0m\n\u001b[0;32m      1\u001b[0m data \u001b[38;5;241m=\u001b[39m [\u001b[38;5;241m1\u001b[39m,\u001b[38;5;241m2\u001b[39m,\u001b[38;5;241m1\u001b[39m,\u001b[38;5;241m100\u001b[39m,\u001b[38;5;241m100\u001b[39m,\u001b[38;5;241m100\u001b[39m,\u001b[38;5;241m3\u001b[39m,\u001b[38;5;241m4\u001b[39m,\u001b[38;5;241m78\u001b[39m]\n\u001b[1;32m----> 2\u001b[0m \u001b[43mnp\u001b[49m\u001b[38;5;241;43m.\u001b[39;49m\u001b[43mmode\u001b[49m[data]\n",
      "File \u001b[1;32m~\\AppData\\Local\\Programs\\Python\\Python311\\Lib\\site-packages\\numpy\\__init__.py:424\u001b[0m, in \u001b[0;36m__getattr__\u001b[1;34m(attr)\u001b[0m\n\u001b[0;32m    421\u001b[0m     \u001b[38;5;28;01mimport\u001b[39;00m \u001b[38;5;21;01mnumpy\u001b[39;00m\u001b[38;5;21;01m.\u001b[39;00m\u001b[38;5;21;01mchar\u001b[39;00m \u001b[38;5;28;01mas\u001b[39;00m \u001b[38;5;21;01mchar\u001b[39;00m\n\u001b[0;32m    422\u001b[0m     \u001b[38;5;28;01mreturn\u001b[39;00m char\u001b[38;5;241m.\u001b[39mchararray\n\u001b[1;32m--> 424\u001b[0m \u001b[38;5;28;01mraise\u001b[39;00m \u001b[38;5;167;01mAttributeError\u001b[39;00m(\u001b[38;5;124m\"\u001b[39m\u001b[38;5;124mmodule \u001b[39m\u001b[38;5;132;01m{!r}\u001b[39;00m\u001b[38;5;124m has no attribute \u001b[39m\u001b[38;5;124m\"\u001b[39m\n\u001b[0;32m    425\u001b[0m                      \u001b[38;5;124m\"\u001b[39m\u001b[38;5;132;01m{!r}\u001b[39;00m\u001b[38;5;124m\"\u001b[39m\u001b[38;5;241m.\u001b[39mformat(\u001b[38;5;18m__name__\u001b[39m, attr))\n",
      "\u001b[1;31mAttributeError\u001b[0m: module 'numpy' has no attribute 'mode'"
     ]
    }
   ],
   "source": [
    "data = [1,2,1,100,100,100,3,4,78]\n",
    "np.mode[data]"
   ]
  },
  {
   "cell_type": "code",
   "execution_count": 29,
   "id": "30793707-2ec2-48e0-a71c-cfbb2891d2dc",
   "metadata": {},
   "outputs": [
    {
     "data": {
      "text/plain": [
       "100"
      ]
     },
     "execution_count": 29,
     "metadata": {},
     "output_type": "execute_result"
    }
   ],
   "source": [
    "data = [1,2,1,100,100,100,3,4,78]\n",
    "import statistics\n",
    "statistics.mode(data)\n"
   ]
  },
  {
   "cell_type": "code",
   "execution_count": 30,
   "id": "c17d4a08-d7ff-408d-b97e-0b64cca3fb34",
   "metadata": {},
   "outputs": [
    {
     "data": {
      "text/html": [
       "<div>\n",
       "<style scoped>\n",
       "    .dataframe tbody tr th:only-of-type {\n",
       "        vertical-align: middle;\n",
       "    }\n",
       "\n",
       "    .dataframe tbody tr th {\n",
       "        vertical-align: top;\n",
       "    }\n",
       "\n",
       "    .dataframe thead th {\n",
       "        text-align: right;\n",
       "    }\n",
       "</style>\n",
       "<table border=\"1\" class=\"dataframe\">\n",
       "  <thead>\n",
       "    <tr style=\"text-align: right;\">\n",
       "      <th></th>\n",
       "      <th>total_bill</th>\n",
       "      <th>tip</th>\n",
       "      <th>size</th>\n",
       "    </tr>\n",
       "  </thead>\n",
       "  <tbody>\n",
       "    <tr>\n",
       "      <th>count</th>\n",
       "      <td>244.000000</td>\n",
       "      <td>244.000000</td>\n",
       "      <td>244.000000</td>\n",
       "    </tr>\n",
       "    <tr>\n",
       "      <th>mean</th>\n",
       "      <td>19.785943</td>\n",
       "      <td>2.998279</td>\n",
       "      <td>2.569672</td>\n",
       "    </tr>\n",
       "    <tr>\n",
       "      <th>std</th>\n",
       "      <td>8.902412</td>\n",
       "      <td>1.383638</td>\n",
       "      <td>0.951100</td>\n",
       "    </tr>\n",
       "    <tr>\n",
       "      <th>min</th>\n",
       "      <td>3.070000</td>\n",
       "      <td>1.000000</td>\n",
       "      <td>1.000000</td>\n",
       "    </tr>\n",
       "    <tr>\n",
       "      <th>25%</th>\n",
       "      <td>13.347500</td>\n",
       "      <td>2.000000</td>\n",
       "      <td>2.000000</td>\n",
       "    </tr>\n",
       "    <tr>\n",
       "      <th>50%</th>\n",
       "      <td>17.795000</td>\n",
       "      <td>2.900000</td>\n",
       "      <td>2.000000</td>\n",
       "    </tr>\n",
       "    <tr>\n",
       "      <th>75%</th>\n",
       "      <td>24.127500</td>\n",
       "      <td>3.562500</td>\n",
       "      <td>3.000000</td>\n",
       "    </tr>\n",
       "    <tr>\n",
       "      <th>max</th>\n",
       "      <td>50.810000</td>\n",
       "      <td>10.000000</td>\n",
       "      <td>6.000000</td>\n",
       "    </tr>\n",
       "  </tbody>\n",
       "</table>\n",
       "</div>"
      ],
      "text/plain": [
       "       total_bill         tip        size\n",
       "count  244.000000  244.000000  244.000000\n",
       "mean    19.785943    2.998279    2.569672\n",
       "std      8.902412    1.383638    0.951100\n",
       "min      3.070000    1.000000    1.000000\n",
       "25%     13.347500    2.000000    2.000000\n",
       "50%     17.795000    2.900000    2.000000\n",
       "75%     24.127500    3.562500    3.000000\n",
       "max     50.810000   10.000000    6.000000"
      ]
     },
     "execution_count": 30,
     "metadata": {},
     "output_type": "execute_result"
    }
   ],
   "source": [
    "df.describe()"
   ]
  },
  {
   "cell_type": "code",
   "execution_count": 31,
   "id": "802c81ad-5e8c-46bc-a8ee-fa73cfb2f0d7",
   "metadata": {},
   "outputs": [
    {
     "data": {
      "text/plain": [
       "array([  2. ,   2.4, 100. ])"
      ]
     },
     "execution_count": 31,
     "metadata": {},
     "output_type": "execute_result"
    }
   ],
   "source": [
    "np.percentile(data, [25,30,99])"
   ]
  },
  {
   "cell_type": "code",
   "execution_count": 32,
   "id": "04624bf2-ff9f-4240-a249-5d9f3e322f1d",
   "metadata": {},
   "outputs": [
    {
     "data": {
      "text/plain": [
       "[1, 2, 1, 100, 100, 100, 3, 4, 78]"
      ]
     },
     "execution_count": 32,
     "metadata": {},
     "output_type": "execute_result"
    }
   ],
   "source": [
    "data"
   ]
  },
  {
   "cell_type": "code",
   "execution_count": 34,
   "id": "7636222c-5b76-4152-b66c-1d35c9d878d2",
   "metadata": {},
   "outputs": [],
   "source": [
    "data.append(-800)\n",
    "data.append(600)"
   ]
  },
  {
   "cell_type": "code",
   "execution_count": 35,
   "id": "a5472b26-80b7-4257-be73-87d0c82c7edc",
   "metadata": {},
   "outputs": [
    {
     "data": {
      "text/plain": [
       "[1, 2, 1, 100, 100, 100, 3, 4, 78, -800, 600, -800, 600]"
      ]
     },
     "execution_count": 35,
     "metadata": {},
     "output_type": "execute_result"
    }
   ],
   "source": [
    "data"
   ]
  },
  {
   "cell_type": "code",
   "execution_count": 36,
   "id": "73eac978-73b7-4850-af35-9140d00e0296",
   "metadata": {},
   "outputs": [
    {
     "data": {
      "text/plain": [
       "<Axes: >"
      ]
     },
     "execution_count": 36,
     "metadata": {},
     "output_type": "execute_result"
    },
    {
     "data": {
      "image/png": "[encoded data removed]",
      "text/plain": [
       "<Figure size 640x480 with 1 Axes>"
      ]
     },
     "metadata": {},
     "output_type": "display_data"
    }
   ],
   "source": [
    "sns.boxplot(data)"
   ]
  },
  {
   "cell_type": "code",
   "execution_count": 37,
   "id": "56fa56cf-26cf-40fb-97e0-4837278ac327",
   "metadata": {},
   "outputs": [
    {
     "data": {
      "text/plain": [
       "np.float64(156623.51479289943)"
      ]
     },
     "execution_count": 37,
     "metadata": {},
     "output_type": "execute_result"
    }
   ],
   "source": [
    "np.var(data)"
   ]
  },
  {
   "cell_type": "code",
   "execution_count": 38,
   "id": "3524d7a8-6edb-4b24-a15e-75b90c1bff6f",
   "metadata": {},
   "outputs": [
    {
     "data": {
      "text/plain": [
       "np.float64(395.75688849709167)"
      ]
     },
     "execution_count": 38,
     "metadata": {},
     "output_type": "execute_result"
    }
   ],
   "source": [
    "np.std(data)"
   ]
  },
  {
   "cell_type": "code",
   "execution_count": 39,
   "id": "2b6e33d8-e306-4cff-80e1-9f81ecbb0afc",
   "metadata": {},
   "outputs": [
    {
     "data": {
      "text/plain": [
       "np.float64(-0.8461538461538461)"
      ]
     },
     "execution_count": 39,
     "metadata": {},
     "output_type": "execute_result"
    }
   ],
   "source": [
    "np.mean(data)"
   ]
  },
  {
   "cell_type": "code",
   "execution_count": 40,
   "id": "9fac103d-f9a9-4d29-af5f-cc2117d29996",
   "metadata": {},
   "outputs": [
    {
     "data": {
      "text/plain": [
       "169675.47435897434"
      ]
     },
     "execution_count": 40,
     "metadata": {},
     "output_type": "execute_result"
    }
   ],
   "source": [
    "statistics.variance(data)  # sample variance"
   ]
  },
  {
   "cell_type": "code",
   "execution_count": 41,
   "id": "3d9cea36-bd0d-42d6-bb1f-f187d405f122",
   "metadata": {},
   "outputs": [
    {
     "data": {
      "text/plain": [
       "156623.5147928994"
      ]
     },
     "execution_count": 41,
     "metadata": {},
     "output_type": "execute_result"
    }
   ],
   "source": [
    "statistics.pvariance(data)  # population variance"
   ]
  },
  {
   "cell_type": "code",
   "execution_count": 42,
   "id": "5fc692d0-4fdd-446c-b7f5-8515dc974194",
   "metadata": {},
   "outputs": [
    {
     "data": {
      "text/plain": [
       "395.7568884970916"
      ]
     },
     "execution_count": 42,
     "metadata": {},
     "output_type": "execute_result"
    }
   ],
   "source": [
    "import math\n",
    "math.sqrt(statistics.pvariance(data) )"
   ]
  },
  {
   "cell_type": "code",
   "execution_count": 43,
   "id": "44798d50-3e14-486a-8efd-016a7cd0e24d",
   "metadata": {},
   "outputs": [
    {
     "data": {
      "text/html": [
       "<div>\n",
       "<style scoped>\n",
       "    .dataframe tbody tr th:only-of-type {\n",
       "        vertical-align: middle;\n",
       "    }\n",
       "\n",
       "    .dataframe tbody tr th {\n",
       "        vertical-align: top;\n",
       "    }\n",
       "\n",
       "    .dataframe thead th {\n",
       "        text-align: right;\n",
       "    }\n",
       "</style>\n",
       "<table border=\"1\" class=\"dataframe\">\n",
       "  <thead>\n",
       "    <tr style=\"text-align: right;\">\n",
       "      <th></th>\n",
       "      <th>total_bill</th>\n",
       "      <th>tip</th>\n",
       "      <th>sex</th>\n",
       "      <th>smoker</th>\n",
       "      <th>day</th>\n",
       "      <th>time</th>\n",
       "      <th>size</th>\n",
       "    </tr>\n",
       "  </thead>\n",
       "  <tbody>\n",
       "    <tr>\n",
       "      <th>0</th>\n",
       "      <td>16.99</td>\n",
       "      <td>1.01</td>\n",
       "      <td>Female</td>\n",
       "      <td>No</td>\n",
       "      <td>Sun</td>\n",
       "      <td>Dinner</td>\n",
       "      <td>2</td>\n",
       "    </tr>\n",
       "    <tr>\n",
       "      <th>1</th>\n",
       "      <td>10.34</td>\n",
       "      <td>1.66</td>\n",
       "      <td>Male</td>\n",
       "      <td>No</td>\n",
       "      <td>Sun</td>\n",
       "      <td>Dinner</td>\n",
       "      <td>3</td>\n",
       "    </tr>\n",
       "    <tr>\n",
       "      <th>2</th>\n",
       "      <td>21.01</td>\n",
       "      <td>3.50</td>\n",
       "      <td>Male</td>\n",
       "      <td>No</td>\n",
       "      <td>Sun</td>\n",
       "      <td>Dinner</td>\n",
       "      <td>3</td>\n",
       "    </tr>\n",
       "    <tr>\n",
       "      <th>3</th>\n",
       "      <td>23.68</td>\n",
       "      <td>3.31</td>\n",
       "      <td>Male</td>\n",
       "      <td>No</td>\n",
       "      <td>Sun</td>\n",
       "      <td>Dinner</td>\n",
       "      <td>2</td>\n",
       "    </tr>\n",
       "    <tr>\n",
       "      <th>4</th>\n",
       "      <td>24.59</td>\n",
       "      <td>3.61</td>\n",
       "      <td>Female</td>\n",
       "      <td>No</td>\n",
       "      <td>Sun</td>\n",
       "      <td>Dinner</td>\n",
       "      <td>4</td>\n",
       "    </tr>\n",
       "    <tr>\n",
       "      <th>...</th>\n",
       "      <td>...</td>\n",
       "      <td>...</td>\n",
       "      <td>...</td>\n",
       "      <td>...</td>\n",
       "      <td>...</td>\n",
       "      <td>...</td>\n",
       "      <td>...</td>\n",
       "    </tr>\n",
       "    <tr>\n",
       "      <th>239</th>\n",
       "      <td>29.03</td>\n",
       "      <td>5.92</td>\n",
       "      <td>Male</td>\n",
       "      <td>No</td>\n",
       "      <td>Sat</td>\n",
       "      <td>Dinner</td>\n",
       "      <td>3</td>\n",
       "    </tr>\n",
       "    <tr>\n",
       "      <th>240</th>\n",
       "      <td>27.18</td>\n",
       "      <td>2.00</td>\n",
       "      <td>Female</td>\n",
       "      <td>Yes</td>\n",
       "      <td>Sat</td>\n",
       "      <td>Dinner</td>\n",
       "      <td>2</td>\n",
       "    </tr>\n",
       "    <tr>\n",
       "      <th>241</th>\n",
       "      <td>22.67</td>\n",
       "      <td>2.00</td>\n",
       "      <td>Male</td>\n",
       "      <td>Yes</td>\n",
       "      <td>Sat</td>\n",
       "      <td>Dinner</td>\n",
       "      <td>2</td>\n",
       "    </tr>\n",
       "    <tr>\n",
       "      <th>242</th>\n",
       "      <td>17.82</td>\n",
       "      <td>1.75</td>\n",
       "      <td>Male</td>\n",
       "      <td>No</td>\n",
       "      <td>Sat</td>\n",
       "      <td>Dinner</td>\n",
       "      <td>2</td>\n",
       "    </tr>\n",
       "    <tr>\n",
       "      <th>243</th>\n",
       "      <td>18.78</td>\n",
       "      <td>3.00</td>\n",
       "      <td>Female</td>\n",
       "      <td>No</td>\n",
       "      <td>Thur</td>\n",
       "      <td>Dinner</td>\n",
       "      <td>2</td>\n",
       "    </tr>\n",
       "  </tbody>\n",
       "</table>\n",
       "<p>244 rows × 7 columns</p>\n",
       "</div>"
      ],
      "text/plain": [
       "     total_bill   tip     sex smoker   day    time  size\n",
       "0         16.99  1.01  Female     No   Sun  Dinner     2\n",
       "1         10.34  1.66    Male     No   Sun  Dinner     3\n",
       "2         21.01  3.50    Male     No   Sun  Dinner     3\n",
       "3         23.68  3.31    Male     No   Sun  Dinner     2\n",
       "4         24.59  3.61  Female     No   Sun  Dinner     4\n",
       "..          ...   ...     ...    ...   ...     ...   ...\n",
       "239       29.03  5.92    Male     No   Sat  Dinner     3\n",
       "240       27.18  2.00  Female    Yes   Sat  Dinner     2\n",
       "241       22.67  2.00    Male    Yes   Sat  Dinner     2\n",
       "242       17.82  1.75    Male     No   Sat  Dinner     2\n",
       "243       18.78  3.00  Female     No  Thur  Dinner     2\n",
       "\n",
       "[244 rows x 7 columns]"
      ]
     },
     "execution_count": 43,
     "metadata": {},
     "output_type": "execute_result"
    }
   ],
   "source": [
    "df"
   ]
  },
  {
   "cell_type": "code",
   "execution_count": 45,
   "id": "c9a6bd70-2999-4ab5-8d10-6dce7ae72f55",
   "metadata": {},
   "outputs": [
    {
     "data": {
      "text/html": [
       "<div>\n",
       "<style scoped>\n",
       "    .dataframe tbody tr th:only-of-type {\n",
       "        vertical-align: middle;\n",
       "    }\n",
       "\n",
       "    .dataframe tbody tr th {\n",
       "        vertical-align: top;\n",
       "    }\n",
       "\n",
       "    .dataframe thead th {\n",
       "        text-align: right;\n",
       "    }\n",
       "</style>\n",
       "<table border=\"1\" class=\"dataframe\">\n",
       "  <thead>\n",
       "    <tr style=\"text-align: right;\">\n",
       "      <th></th>\n",
       "      <th>total_bill</th>\n",
       "      <th>tip</th>\n",
       "      <th>size</th>\n",
       "    </tr>\n",
       "  </thead>\n",
       "  <tbody>\n",
       "    <tr>\n",
       "      <th>total_bill</th>\n",
       "      <td>1.000000</td>\n",
       "      <td>0.675734</td>\n",
       "      <td>0.598315</td>\n",
       "    </tr>\n",
       "    <tr>\n",
       "      <th>tip</th>\n",
       "      <td>0.675734</td>\n",
       "      <td>1.000000</td>\n",
       "      <td>0.489299</td>\n",
       "    </tr>\n",
       "    <tr>\n",
       "      <th>size</th>\n",
       "      <td>0.598315</td>\n",
       "      <td>0.489299</td>\n",
       "      <td>1.000000</td>\n",
       "    </tr>\n",
       "  </tbody>\n",
       "</table>\n",
       "</div>"
      ],
      "text/plain": [
       "            total_bill       tip      size\n",
       "total_bill    1.000000  0.675734  0.598315\n",
       "tip           0.675734  1.000000  0.489299\n",
       "size          0.598315  0.489299  1.000000"
      ]
     },
     "execution_count": 45,
     "metadata": {},
     "output_type": "execute_result"
    }
   ],
   "source": [
    "df.corr(numeric_only=True)"
   ]
  },
  {
   "cell_type": "code",
   "execution_count": 49,
   "id": "c9a977b2-58df-47f9-9797-bf7694553c1d",
   "metadata": {},
   "outputs": [
    {
     "data": {
      "text/plain": [
       "<Axes: >"
      ]
     },
     "execution_count": 49,
     "metadata": {},
     "output_type": "execute_result"
    },
    {
     "data": {
      "image/png": "[encoded data removed]",
      "text/plain": [
       "<Figure size 640x480 with 2 Axes>"
      ]
     },
     "metadata": {},
     "output_type": "display_data"
    }
   ],
   "source": [
    "corr = df.corr(numeric_only=True)\n",
    "sns.heatmap(corr, annot = True)"
   ]
  },
  {
   "cell_type": "code",
   "execution_count": 50,
   "id": "2d5cb213-9c21-474e-9aec-3ccabf688d07",
   "metadata": {},
   "outputs": [
    {
     "data": {
      "text/html": [
       "<div>\n",
       "<style scoped>\n",
       "    .dataframe tbody tr th:only-of-type {\n",
       "        vertical-align: middle;\n",
       "    }\n",
       "\n",
       "    .dataframe tbody tr th {\n",
       "        vertical-align: top;\n",
       "    }\n",
       "\n",
       "    .dataframe thead th {\n",
       "        text-align: right;\n",
       "    }\n",
       "</style>\n",
       "<table border=\"1\" class=\"dataframe\">\n",
       "  <thead>\n",
       "    <tr style=\"text-align: right;\">\n",
       "      <th></th>\n",
       "      <th>total_bill</th>\n",
       "      <th>tip</th>\n",
       "      <th>size</th>\n",
       "    </tr>\n",
       "  </thead>\n",
       "  <tbody>\n",
       "    <tr>\n",
       "      <th>total_bill</th>\n",
       "      <td>79.252939</td>\n",
       "      <td>8.323502</td>\n",
       "      <td>5.065983</td>\n",
       "    </tr>\n",
       "    <tr>\n",
       "      <th>tip</th>\n",
       "      <td>8.323502</td>\n",
       "      <td>1.914455</td>\n",
       "      <td>0.643906</td>\n",
       "    </tr>\n",
       "    <tr>\n",
       "      <th>size</th>\n",
       "      <td>5.065983</td>\n",
       "      <td>0.643906</td>\n",
       "      <td>0.904591</td>\n",
       "    </tr>\n",
       "  </tbody>\n",
       "</table>\n",
       "</div>"
      ],
      "text/plain": [
       "            total_bill       tip      size\n",
       "total_bill   79.252939  8.323502  5.065983\n",
       "tip           8.323502  1.914455  0.643906\n",
       "size          5.065983  0.643906  0.904591"
      ]
     },
     "execution_count": 50,
     "metadata": {},
     "output_type": "execute_result"
    }
   ],
   "source": [
    "df.cov(numeric_only=True)"
   ]
  },
  {
   "cell_type": "code",
   "execution_count": 51,
   "id": "8e6b4ffc-f9e0-4a07-bd1f-d59c39a5a656",
   "metadata": {},
   "outputs": [
    {
     "data": {
      "text/plain": [
       "<seaborn.axisgrid.PairGrid at 0x2806384a310>"
      ]
     },
     "execution_count": 51,
     "metadata": {},
     "output_type": "execute_result"
    },
    {
     "data": {
      "image/png": "[encoded data removed]",
      "text/plain": [
       "<Figure size 750x750 with 12 Axes>"
      ]
     },
     "metadata": {},
     "output_type": "display_data"
    }
   ],
   "source": [
    "sns.pairplot(df)"
   ]
  },
  {
   "cell_type": "code",
   "execution_count": 52,
   "id": "3cb44342-44ba-498d-8edb-51ab94e61372",
   "metadata": {},
   "outputs": [
    {
     "data": {
      "text/plain": [
       "<Axes: ylabel='Count'>"
      ]
     },
     "execution_count": 52,
     "metadata": {},
     "output_type": "execute_result"
    },
    {
     "data": {
      "image/png": "[encoded data removed]",
      "text/plain": [
       "<Figure size 640x480 with 1 Axes>"
      ]
     },
     "metadata": {},
     "output_type": "display_data"
    }
   ],
   "source": [
    "sns.histplot(data)"
   ]
  },
  {
   "cell_type": "code",
   "execution_count": 53,
   "id": "d99304e3-dd5d-431f-a476-06e575f3c71e",
   "metadata": {},
   "outputs": [
    {
     "data": {
      "text/plain": [
       "<Axes: ylabel='Count'>"
      ]
     },
     "execution_count": 53,
     "metadata": {},
     "output_type": "execute_result"
    },
    {
     "data": {
      "image/png": "[encoded data removed]",
      "text/plain": [
       "<Figure size 640x480 with 1 Axes>"
      ]
     },
     "metadata": {},
     "output_type": "display_data"
    }
   ],
   "source": [
    "sns.histplot(data, kde = True)"
   ]
  },
  {
   "cell_type": "code",
   "execution_count": 54,
   "id": "3a61ae14-3eb5-401f-a5cd-ea4b6e27f8d5",
   "metadata": {},
   "outputs": [
    {
     "data": {
      "text/plain": [
       "<Axes: xlabel='total_bill', ylabel='Count'>"
      ]
     },
     "execution_count": 54,
     "metadata": {},
     "output_type": "execute_result"
    },
    {
     "data": {
      "image/png": "[encoded data removed]",
      "text/plain": [
       "<Figure size 640x480 with 1 Axes>"
      ]
     },
     "metadata": {},
     "output_type": "display_data"
    }
   ],
   "source": [
    "sns.histplot(df['total_bill'])"
   ]
  },
  {
   "cell_type": "code",
   "execution_count": 55,
   "id": "fa41dbf4-2307-4190-8a35-8bba0c7587f9",
   "metadata": {},
   "outputs": [
    {
     "data": {
      "text/plain": [
       "<Axes: xlabel='total_bill', ylabel='Count'>"
      ]
     },
     "execution_count": 55,
     "metadata": {},
     "output_type": "execute_result"
    },
    {
     "data": {
      "image/png": "[encoded data removed]",
      "text/plain": [
       "<Figure size 640x480 with 1 Axes>"
      ]
     },
     "metadata": {},
     "output_type": "display_data"
    }
   ],
   "source": [
    "sns.histplot(df['total_bill'],kde = True)"
   ]
  },
  {
   "cell_type": "code",
   "execution_count": 56,
   "id": "611255c5-748b-45ec-a9f3-7b56c4f43136",
   "metadata": {},
   "outputs": [
    {
     "data": {
      "text/plain": [
       "<Axes: xlabel='total_bill', ylabel='Density'>"
      ]
     },
     "execution_count": 56,
     "metadata": {},
     "output_type": "execute_result"
    },
    {
     "data": {
      "image/png": "[encoded data removed]",
      "text/plain": [
       "<Figure size 640x480 with 1 Axes>"
      ]
     },
     "metadata": {},
     "output_type": "display_data"
    }
   ],
   "source": [
    "sns.distplot(df['total_bill'],kde = True)"
   ]
  },
  {
   "cell_type": "code",
   "execution_count": 57,
   "id": "7d6fb089-a6eb-401b-a6dd-4012a7eb098d",
   "metadata": {},
   "outputs": [
    {
     "data": {
      "text/plain": [
       "array([ 0.410818  ,  0.70527189,  0.56513879,  0.3010838 ,  0.38109049,\n",
       "        0.50668526,  0.73181703,  0.12494086,  0.15069963,  0.56554213,\n",
       "        0.32181146,  0.36910396,  0.64523711,  0.38241812,  0.33756595,\n",
       "        0.84726116,  0.9375029 ,  0.44897233,  0.21698052,  0.34710224,\n",
       "        0.58831703,  0.32914112,  0.28832819,  0.39448973,  0.47360387,\n",
       "        0.62665043,  0.41308714,  0.26060089,  0.36154682,  0.36149153,\n",
       "        0.8009176 ,  0.21210199,  0.9330823 ,  0.26358411,  0.48967386,\n",
       "        0.51349884,  0.66462601,  0.5546243 ,  0.4738373 ,  0.39606325,\n",
       "        0.31805754,  0.51014996,  0.81967849,  0.68426561,  0.84261603,\n",
       "        0.59523244,  0.55447118,  0.41491097,  0.7852004 ,  0.75103346,\n",
       "        0.49388098,  0.65655018,  0.52100188,  0.76241377,  0.3974525 ,\n",
       "        0.48511269,  0.13559302,  0.47902013,  0.76445107,  0.53203243,\n",
       "        0.53418708,  0.71861177,  0.58675657,  0.8740726 ,  0.48438474,\n",
       "        0.72447316,  0.84485973,  0.40724795,  0.41444921,  0.4945955 ,\n",
       "        0.54274806,  0.67052345,  0.3672958 ,  0.51323335,  0.10770677,\n",
       "        0.33452824,  0.20197765,  0.79961407,  0.37027083,  0.50448223,\n",
       "        0.48860082,  0.65002029,  0.10796592,  0.43326332,  0.57282851,\n",
       "        0.5818949 ,  0.40601552,  0.62419176,  0.52831175,  0.56706228,\n",
       "        0.28490245,  0.22392503,  0.62034596,  0.17027145,  0.27336041,\n",
       "        0.56020515,  0.43063755,  0.6453307 ,  0.19227531,  0.11595463,\n",
       "        0.52191586,  0.42800204,  0.38312786,  0.55010532,  0.3573281 ,\n",
       "        0.11755366,  0.50732532,  0.61942365,  0.27366656,  0.45843794,\n",
       "        0.47497621,  0.57870684,  0.58141508,  0.3680055 ,  0.57007978,\n",
       "        0.63306251,  0.59509744,  0.54932625,  0.92303369,  0.22416804,\n",
       "        0.36847835,  0.40223102,  0.58135861,  0.56506947,  0.5353051 ,\n",
       "        0.62161269,  0.3605177 ,  0.48451103,  0.43023743,  0.426369  ,\n",
       "        0.61867764,  0.70604615,  0.28904139,  0.77653426,  0.56639767,\n",
       "        0.57203761,  0.47986708,  0.18566675,  0.43008563,  0.42946279,\n",
       "        0.5290489 ,  0.49617169,  0.47745391,  0.09354772,  0.55008244,\n",
       "        0.31742655,  0.59961113,  0.77830868,  0.53924543,  0.1392125 ,\n",
       "        0.79496379,  0.66513612,  0.70379731,  0.42114476,  0.41795349,\n",
       "        0.59251797,  0.48124523,  0.47517155,  0.84779373,  0.72850209,\n",
       "        0.89104802,  0.55831261,  0.16863453,  0.50709464,  0.70138816,\n",
       "        0.803858  ,  0.38601767,  0.61098916,  0.60392571,  0.59444426,\n",
       "        0.69541141,  0.38121264,  0.50657398,  0.57043642,  0.25962827,\n",
       "        0.47895968,  0.59243643,  0.48028291,  0.49045047,  0.70325865,\n",
       "        0.37192086,  0.25099748,  0.47871144,  0.65943216,  0.33487633,\n",
       "        0.41329308,  0.98894281,  0.71376677,  0.13708104,  0.36205479,\n",
       "        0.12045323,  0.70798002,  0.35669508,  0.71926595,  0.56308833,\n",
       "        0.85941655,  0.49031625,  0.57129985,  0.78273812,  0.64574462,\n",
       "        0.41263695,  0.51379721,  0.24123117,  0.14380961,  0.3026836 ,\n",
       "        0.4274536 ,  0.39246714,  0.39118045,  0.61421258,  0.08068806,\n",
       "        0.25853393,  0.44542269,  0.5095631 ,  0.47549267,  0.63752612,\n",
       "        0.11748469,  0.38718688,  0.24004327,  0.6055787 ,  0.90095358,\n",
       "        0.20007564,  0.53394308,  0.32718266,  0.15347375,  0.48360345,\n",
       "        0.29809832,  0.18076798,  0.53184493,  0.40889635,  0.47082479,\n",
       "        0.56743236,  0.83081116,  0.55049007,  0.68673817,  0.44003145,\n",
       "        0.87590495,  0.35855967,  0.45372418,  0.22001276,  0.43971044,\n",
       "        0.47791889,  0.043245  ,  0.51324457,  0.45853241,  0.43506339,\n",
       "        0.50681721,  0.62749869,  0.29402018,  0.45547401,  0.18562305,\n",
       "        0.58255993,  0.4894975 ,  0.21431832,  0.78784461,  0.65656041,\n",
       "        0.76922381,  0.31768207,  0.93140759,  0.57377242,  0.46382935,\n",
       "        0.49242464,  0.49240176,  0.51711603,  0.46207945,  0.46524374,\n",
       "        0.70936556,  0.99566997,  0.72659573,  0.5867925 ,  0.48398562,\n",
       "        0.73836331,  0.76368846,  0.99068242,  0.07399392,  0.3830711 ,\n",
       "        0.74514564,  0.583381  ,  0.18929382,  0.79646192,  0.19863581,\n",
       "        0.72140838,  0.53054526,  0.78816385,  0.96988086,  0.27102994,\n",
       "        0.64721636,  0.69301282,  0.8146698 ,  0.40007504,  0.58119123,\n",
       "        0.74363997,  0.54954799,  0.56536085,  0.3207613 ,  0.43829479,\n",
       "        0.65888   ,  0.22591791,  0.85784621,  0.52792632,  0.33144187,\n",
       "        0.69658907,  0.31465847,  0.35323234,  0.65586808,  0.63153506,\n",
       "        0.86568341,  0.76148219,  0.53689784,  0.39416274,  0.39489187,\n",
       "        0.39026556,  0.26894633,  0.20829673,  0.38926841,  0.67061906,\n",
       "        0.53433753,  0.54933457,  0.61076002,  0.85134446,  0.82157767,\n",
       "        0.36158381,  0.53014436,  0.42015667,  0.23325005,  0.44923887,\n",
       "        0.27888497,  0.60103964,  0.25534509,  0.42573576,  0.59125682,\n",
       "        0.75683957,  0.62664508,  0.61670176,  0.4116066 ,  0.66146204,\n",
       "        0.51727922,  0.51010563,  0.57476793,  0.49892419,  0.31118134,\n",
       "        0.65539878,  0.51233197,  0.17227941,  0.31551096,  0.56670491,\n",
       "        0.39213361,  0.39359867,  0.45205192,  0.56370487,  0.83128427,\n",
       "        0.57901606,  0.56191778,  0.57653537,  0.48739637,  0.0875106 ,\n",
       "        0.83976199,  0.57992075,  0.63204951,  0.21872245,  0.23392887,\n",
       "        0.64418432,  0.37700572,  0.41301457,  0.68176288,  0.33783863,\n",
       "        0.16501274,  0.52705898,  0.73378645,  0.80735529,  0.86476131,\n",
       "        0.44442196,  0.20080282,  0.563949  ,  0.51133469,  0.62820282,\n",
       "        0.22496198,  0.28597941,  0.63328443,  0.38434162,  0.42444559,\n",
       "        0.42687922,  0.67818875,  0.54681474,  0.58224306, -0.01676438,\n",
       "        0.29602762,  0.62960422,  0.29040865,  0.62340147,  0.4445875 ,\n",
       "        0.26618062,  0.61483849,  0.30428754,  0.62902074,  0.37312524,\n",
       "       -0.00510083,  0.52265845,  0.44268895,  0.34556008,  0.24401035,\n",
       "        0.54896222,  0.36032239,  0.73773321,  0.56509859,  0.35935532,\n",
       "        0.39731132,  0.6787351 ,  0.22886577,  0.13565985,  0.9209019 ,\n",
       "        0.93694127,  0.30042947,  0.54440518,  0.32728901,  0.48809619,\n",
       "        0.42579751,  0.76503959,  0.59217204,  0.81817391,  0.89956023,\n",
       "        0.51076754,  0.52058547,  0.23696234,  0.44234652,  0.56308999,\n",
       "        0.40211047,  0.61069531,  0.29860279,  0.49882975,  0.24316239,\n",
       "        0.54177037,  0.27017873,  0.72179635,  0.44157037,  0.69152174,\n",
       "        0.56865541,  0.22769105,  0.7759659 ,  0.43648476,  0.80028147,\n",
       "        0.11733519,  0.2631338 ,  0.49222444,  0.59758992,  0.74097813,\n",
       "        0.47269461,  0.18556676,  0.35946904,  0.31421471,  0.33667076,\n",
       "        0.57247789,  0.51477427,  0.43802373,  0.40020029,  0.54361852,\n",
       "        0.79158357,  0.5568342 ,  0.76622437,  0.17928333,  0.5457454 ,\n",
       "        0.48415454,  0.35936492,  0.41817958,  0.29329209,  0.58704294,\n",
       "        0.2158633 ,  0.18918619,  0.60798115,  0.43428829,  0.31163821,\n",
       "        0.77071367,  0.37542951,  0.51787402,  0.42887092,  0.43365552,\n",
       "        0.23462422,  0.53318536,  0.51094094,  0.41581088,  0.79720488,\n",
       "        0.6997882 ,  0.71333566,  0.13200455,  0.51955807,  0.82478767,\n",
       "        0.36684765,  0.34079914,  0.307202  ,  0.54156818,  0.83987617,\n",
       "        0.80389903,  0.95371185,  0.67825546,  0.43306018,  0.38726565,\n",
       "        0.4680549 ,  0.6461521 ,  0.16298024,  0.24454731,  0.66334175,\n",
       "        0.23673622,  0.27942835,  0.41682325,  0.48076704,  0.2638099 ,\n",
       "        0.52895306,  0.309085  ,  0.91373825,  0.77296727,  0.55671094,\n",
       "        0.1371024 ,  0.64018615,  0.38807754,  0.24802756,  0.34223562,\n",
       "        0.59996099,  0.58641592,  0.25705631,  0.66570391,  0.51806869,\n",
       "        0.27273292,  0.24893765,  0.24865657,  0.32512092,  0.8722471 ,\n",
       "        0.53821268,  0.24301117,  0.39837033,  0.73828375,  0.35878308,\n",
       "        0.61184836,  0.58841321,  0.36924916,  0.40808561,  0.41425769,\n",
       "        0.4074035 ,  0.36843935,  0.50027507,  0.57705972,  0.47738537,\n",
       "        0.60045676,  0.64584701,  0.46320178,  0.25404687,  0.52512459,\n",
       "        0.64998959,  0.69180262,  0.64473355,  0.40765344,  0.47667026,\n",
       "        0.31198718,  0.23238377, -0.17725653,  0.82990749,  0.03593736,\n",
       "        0.40542869,  0.14063537,  0.45262777,  0.23579033,  0.28912836,\n",
       "        0.37706961,  0.33959708,  0.12632274,  0.56597847,  0.43309529,\n",
       "        0.2945194 ,  0.39857087,  0.6760792 ,  0.43279003,  0.24181617,\n",
       "        0.26779343,  0.44342711,  0.6422483 ,  0.71179266,  0.33927774,\n",
       "        0.51213106,  0.64256839,  0.52664775,  0.46106372,  0.7176588 ,\n",
       "        0.1861951 ,  0.57029095,  0.41496725,  0.57532978,  0.38968472,\n",
       "        0.8604829 ,  0.34631076,  0.5403042 ,  0.21216122,  0.84575684,\n",
       "        0.81290561,  0.34363437,  0.38617885,  0.46418102,  0.35822427,\n",
       "        0.4960794 ,  0.65418869,  0.65895543,  0.44468529,  0.2466221 ,\n",
       "        0.52591811,  0.13081679,  0.43057023,  0.11224512,  0.74712955,\n",
       "        0.16080982,  0.62249196,  0.54828776,  0.54859424,  0.49236853,\n",
       "        0.81059027,  0.46002217,  0.30583583,  0.2255433 ,  0.28667692,\n",
       "        0.6181317 ,  0.5004479 ,  0.31270645,  0.51402022,  0.57568752,\n",
       "        0.71197784,  0.06779437,  0.6350045 ,  0.2707141 ,  0.55952789,\n",
       "        0.61227197,  0.7236347 ,  0.54168709,  0.47607459,  0.31944644,\n",
       "        0.61658474,  0.50534414,  0.30057119,  0.51352292,  1.08993854,\n",
       "        0.28459142,  0.58595376,  0.49193542,  0.47011417,  0.81329733,\n",
       "        0.68550463,  0.48162522,  0.31790344,  0.70378513,  0.68517289,\n",
       "        0.37528846,  0.75734979,  0.40140768,  0.48681874,  0.64547762,\n",
       "        0.38608296,  0.61389878,  0.04719163,  0.60176586,  0.61678116,\n",
       "        0.27334905,  0.2880731 ,  0.52968138,  0.80509417,  0.59889439,\n",
       "        0.47047604,  0.38241608,  0.3373236 ,  0.4052323 ,  0.34091332,\n",
       "        0.21687558,  0.69981237,  0.76232434,  0.70629747,  0.51439862,\n",
       "        0.41642966,  0.64466592,  0.62832884,  0.8444998 ,  0.30896178,\n",
       "        0.55411483,  0.39764538,  0.51183992,  0.36837342,  0.47339671,\n",
       "        0.50445565,  0.31697159,  0.26394201,  0.36095864,  0.45781122,\n",
       "        0.43125922,  0.4090747 ,  0.49454972,  0.58063607,  0.55302846,\n",
       "        0.73701448,  0.30140212,  0.57652718,  0.44801511,  0.61693787,\n",
       "        0.21361693,  0.49021759,  0.90343069,  0.55846358,  0.37297263,\n",
       "        0.26895111,  0.01751304,  0.3742389 ,  0.6487896 ,  0.95796681,\n",
       "        0.55609635,  0.64590706,  0.32754213,  0.28997617,  0.51217589,\n",
       "        0.4652719 ,  0.67373193,  0.69818051,  0.35618296,  0.51887162,\n",
       "        0.43396845,  0.34984707,  0.712075  ,  0.60000344,  0.89605802,\n",
       "        0.66048503,  0.416276  ,  0.59865141,  0.28638677,  0.66364217,\n",
       "        0.43944428,  0.29114961,  0.59985866,  0.55969506,  0.30473031,\n",
       "        0.79320111,  0.59009963,  0.77386642,  0.30048992,  0.59321153,\n",
       "        0.32557793,  0.52184113,  0.74657264,  0.40475259,  0.6633722 ,\n",
       "        0.45137548,  0.29268394,  0.46923355,  0.39954441,  0.15740093,\n",
       "        0.64552101,  0.61173094,  0.28429979,  0.38999765,  0.35936571,\n",
       "        0.36638346,  0.70634437,  0.47755389,  1.02797668,  0.50274337,\n",
       "        0.69165619,  0.51860307,  0.55596979,  0.26633285,  0.50623284,\n",
       "        0.64231264,  0.62348672,  0.37564677,  0.34728102,  0.57690099,\n",
       "        0.40020454,  0.38160635,  0.38443015,  0.67785361,  0.31745886,\n",
       "        0.47040237,  0.75462213,  0.98638637,  0.37864506,  0.76909801,\n",
       "        0.62293191,  0.35381876,  0.18543536,  0.27627313,  0.21780205,\n",
       "        0.57037536,  0.38779394,  0.64876214,  0.71982761,  0.78327665,\n",
       "        0.36219815,  0.7204718 ,  0.2802952 ,  0.73979807,  0.74039341,\n",
       "        0.38528512,  0.76653516,  0.2652257 ,  0.65825694,  0.70354395,\n",
       "        0.29750168,  0.52255185,  0.2332    ,  0.29227991,  0.79687611,\n",
       "        0.4288334 ,  0.29812717,  0.550927  ,  0.41631365,  0.55751706,\n",
       "        0.43526209,  0.45091558,  0.54749787,  0.51878214,  0.43234027,\n",
       "        0.52616397,  0.45174947,  0.89500952,  0.4215834 ,  0.69726707,\n",
       "        0.19440262,  0.45428757,  0.37664139,  0.71184165,  0.52250209,\n",
       "        0.19433778,  0.60605038,  0.55023045,  0.70014123,  0.84617629,\n",
       "        0.5043454 ,  0.97594747,  0.37030358,  0.36854082,  0.4627276 ,\n",
       "        0.66091992,  0.32446568,  0.66954966,  0.50922718,  0.25840725,\n",
       "        0.44239428,  0.45008634,  0.93516174,  0.47930867,  0.19237542,\n",
       "        0.39381061,  0.68244098,  0.74573028,  0.89566646,  0.42245808,\n",
       "        0.58641151,  0.07473075,  0.46821228,  0.29981983,  0.47217555,\n",
       "        0.40210081,  0.3898935 ,  0.5222822 ,  0.25301813,  0.63045467,\n",
       "        0.42675843,  0.49386208,  0.56356425,  0.43372353,  0.66146353,\n",
       "        0.43497509,  0.3444442 ,  0.68251452,  0.40289414,  0.79609388,\n",
       "        0.45823549,  0.10659385,  0.48948519,  0.42934839,  0.247049  ,\n",
       "        0.6115229 ,  0.45318101,  0.75308751,  0.45548124,  0.59682153,\n",
       "        0.32950557,  0.30326973,  0.51004935,  0.67824601,  0.59491425,\n",
       "        0.49235332,  0.4870009 ,  0.55701987,  0.79276957,  0.2359104 ,\n",
       "        0.44618539,  0.7245368 ,  0.68376773,  0.69129118,  0.3692443 ,\n",
       "        0.38877527,  0.65356474,  0.43309674,  0.28037211,  0.50026909,\n",
       "        0.06694555,  0.72326681,  0.43038104,  0.45751583,  0.23171106,\n",
       "        0.63717025,  0.43831333,  0.50647597,  0.18145414,  0.44727466,\n",
       "        0.41212474,  0.33322756,  0.39482408,  0.52211024,  0.63983472,\n",
       "        0.60036867,  0.57914726,  0.01530373,  0.59410161,  0.59542351,\n",
       "        0.51093405,  0.35591564,  0.16113168,  0.636341  ,  0.59049452,\n",
       "        0.52449511,  0.5024581 ,  0.74936061,  0.37483509,  0.71652754,\n",
       "        0.46955198,  0.75515469,  0.25540539,  0.52122622,  0.63546889,\n",
       "        0.24294726,  0.88794039,  0.22423888,  0.45303837,  0.41155067,\n",
       "        0.79297845,  0.68425012,  0.50887806,  0.64230036,  0.39240275,\n",
       "        0.8833625 ,  0.43755441,  0.44637635,  0.74883579,  0.66342702,\n",
       "        0.29252564,  0.51357034,  0.63466291,  0.74809255,  0.3100991 ,\n",
       "        0.99509574,  0.47908411,  0.31354037,  0.58649452,  0.40450868,\n",
       "        0.29044724,  0.3552739 ,  0.51793672,  0.39286129,  0.56122978,\n",
       "        0.81077825,  0.52889463,  1.02501399,  0.43411817,  0.4996862 ,\n",
       "        0.19865909,  0.58422363,  0.2844221 ,  0.15960048,  0.54744814,\n",
       "        0.56126768,  0.86890772,  0.54073403,  0.93188981,  0.61674871,\n",
       "        0.62028928,  0.39608649,  0.86395898,  0.5614436 ,  0.90121823,\n",
       "        0.49258105,  0.4220879 ,  0.28178932,  0.66153732, -0.01439103,\n",
       "        0.56145613,  0.74008951,  0.17802572,  0.44072862,  0.26489195,\n",
       "        0.45200518,  0.45969937,  0.23698702, -0.00163459,  0.66617432,\n",
       "        0.4849924 ,  0.65129775,  0.46690299,  0.43221971,  0.88269826])"
      ]
     },
     "execution_count": 57,
     "metadata": {},
     "output_type": "execute_result"
    }
   ],
   "source": [
    "np.random.normal(0.5,0.2, 1000)"
   ]
  },
  {
   "cell_type": "code",
   "execution_count": null,
   "id": "0e3e477d-45c6-4b40-ad23-a92ba5f6e6a3",
   "metadata": {},
   "outputs": [],
   "source": []
  }
 ],
 "metadata": {
  "kernelspec": {
   "display_name": "Python 3 (ipykernel)",
   "language": "python",
   "name": "python3"
  },
  "language_info": {
   "codemirror_mode": {
    "name": "ipython",
    "version": 3
   },
   "file_extension": ".py",
   "mimetype": "text/x-python",
   "name": "python",
   "nbconvert_exporter": "python",
   "pygments_lexer": "ipython3",
   "version": "3.11.9"
  }
 },
 "nbformat": 4,
 "nbformat_minor": 5
}
