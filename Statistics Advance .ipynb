{
 "cells": [
  {
   "cell_type": "markdown",
   "id": "7ab7212b-52d4-4237-9818-011eab71e288",
   "metadata": {},
   "source": [
    "# 8. You have two sets of data representing the incomes of two different professions:\n",
    "profession A: [40,52,55,60,62]\n",
    "profession B: [45,50,55,52,47] perform an f-test to determine if the variance of the two professions incomes are equal.what are you conclusions based on the F-test?\n",
    "Task:Use python to calculate the f-statistic and p-value for thr given data.\n",
    "Objective:Gain experience in performing F-tests and interpreting the results in terms of variance comparison."
   ]
  },
  {
   "cell_type": "code",
   "execution_count": 1,
   "id": "9c08db02-eedc-418a-8465-5c3d531848d0",
   "metadata": {},
   "outputs": [
    {
     "data": {
      "text/plain": [
       "(np.float64(2.089171974522293), np.float64(0.49304859900533904))"
      ]
     },
     "execution_count": 1,
     "metadata": {},
     "output_type": "execute_result"
    }
   ],
   "source": [
    "import numpy as np\n",
    "from scipy.stats import f\n",
    "\n",
    "profession_A = np.array([48, 52, 55, 60, 62])\n",
    "profession_B = np.array([45, 50, 55, 52, 47])\n",
    "\n",
    "# calculate variance for each group\n",
    "var_A = np.var(profession_A, ddof=1)\n",
    "var_B = np.var(profession_B, ddof=1)\n",
    "\n",
    "# calculate F-statistic as the ratio of the two variances(larger variance/smaller variance)\n",
    "if var_A >= var_B:\n",
    "    F_statistic = var_A / var_B\n",
    "    dfn, dfd = len(profession_A) - 1, len(profession_B) - 1\n",
    "else:\n",
    "    F_statistic = var_B / var_A\n",
    "    dfn,dfd = len(profession_B) - 1, len(profession_A) - 1\n",
    "\n",
    "# calculate the p-value for the F-test\n",
    "p_value = 2 * min(f.cdf(F_statistic,dfn,dfd), 1- f.cdf(F_statistic,dfn,dfd))\n",
    "\n",
    "F_statistic,p_value"
   ]
  },
  {
   "cell_type": "markdown",
   "id": "9e4ed791-45e8-4f70-a1a5-620ef0a1f593",
   "metadata": {},
   "source": [
    "# 9. Conduct a one-way ANOVA to test whether there are any statistically significant differences in average heights between three different regions with the following data:\n",
    "Region A:[160,162,165,158,164]\n",
    "Region B:[172,175,170,168,174]\n",
    "Region C:[180,182,179,185,183]\n",
    "Task:Write python code to perform the one-way ANOVA and interpret the results.\n",
    "Objective:Learn how to perform one-way ANOVA using python and interpret F-statistic and p-value."
   ]
  },
  {
   "cell_type": "code",
   "execution_count": 4,
   "id": "1a9f7a9d-dc3a-4171-87d3-f79a6087af4e",
   "metadata": {},
   "outputs": [
    {
     "data": {
      "text/plain": [
       "(np.float64(67.87330316742101), np.float64(2.8706641879370266e-07))"
      ]
     },
     "execution_count": 4,
     "metadata": {},
     "output_type": "execute_result"
    }
   ],
   "source": [
    "from scipy.stats import f_oneway\n",
    "\n",
    "region_A = [160, 162, 165, 158, 164]\n",
    "region_B = [172, 175, 170, 168, 174]\n",
    "region_C = [180, 182, 179, 185, 183]\n",
    "\n",
    "F_statistic, p_value = f_oneway(region_A, region_B, region_C)\n",
    "F_statistic, p_value"
   ]
  },
  {
   "cell_type": "code",
   "execution_count": null,
   "id": "0b1fdba9-20c8-49f5-8962-4eafd4372fd0",
   "metadata": {},
   "outputs": [],
   "source": []
  }
 ],
 "metadata": {
  "kernelspec": {
   "display_name": "Python 3 (ipykernel)",
   "language": "python",
   "name": "python3"
  },
  "language_info": {
   "codemirror_mode": {
    "name": "ipython",
    "version": 3
   },
   "file_extension": ".py",
   "mimetype": "text/x-python",
   "name": "python",
   "nbconvert_exporter": "python",
   "pygments_lexer": "ipython3",
   "version": "3.11.9"
  }
 },
 "nbformat": 4,
 "nbformat_minor": 5
}
